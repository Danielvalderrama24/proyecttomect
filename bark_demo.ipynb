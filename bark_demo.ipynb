{
  "nbformat": 4,
  "nbformat_minor": 0,
  "metadata": {
    "colab": {
      "provenance": [],
      "include_colab_link": true
    },
    "kernelspec": {
      "name": "python3",
      "display_name": "Python 3"
    },
    "language_info": {
      "name": "python"
    }
  },
  "cells": [
    {
      "cell_type": "markdown",
      "metadata": {
        "id": "view-in-github",
        "colab_type": "text"
      },
      "source": [
        "<a href=\"https://colab.research.google.com/github/Danielvalderrama24/proyecttomect/blob/main/bark_demo.ipynb\" target=\"_parent\"><img src=\"https://colab.research.google.com/assets/colab-badge.svg\" alt=\"Open In Colab\"/></a>"
      ]
    },
    {
      "cell_type": "code",
      "source": [],
      "metadata": {
        "id": "PdNMSeTcOHg6"
      },
      "execution_count": null,
      "outputs": []
    },
    {
      "cell_type": "code",
      "source": [
        "def clasificar_material(volumen, peso, material):\n",
        "    if 8.0 >= volumen > 5.5 and 6000 >= peso > 4000:\n",
        "        return calcular_precio(peso, material)\n",
        "    elif 5.5 >= volumen > 3.0 and 6000 >= peso > 4000:\n",
        "        return calcular_precio(peso, material)\n",
        "    elif volumen <= 3.0 and 6000 >= peso > 4000:\n",
        "        return calcular_precio(peso, material)\n",
        "    elif 8.0 >= volumen > 5.5 and 4000 >= peso > 2000:\n",
        "        return calcular_precio(peso, material)\n",
        "    elif 5.5 >= volumen > 3.0 and 4000 >= peso > 2000:\n",
        "        return calcular_precio(peso, material)\n",
        "    elif volumen <= 3.0 and 4000 >= peso > 2000:\n",
        "        return calcular_precio(peso, material)\n",
        "    elif 8.0 >= volumen > 5.5 and 2000 >= peso > 0:\n",
        "        return calcular_precio(peso, material)\n",
        "    elif 5.5 >= volumen > 3.0 and 2000 >= peso > 0:\n",
        "        return calcular_precio(peso, material)\n",
        "    elif volumen <= 3.0 and 2000 >= peso > 0:\n",
        "        return calcular_precio(peso, material)\n",
        "    else:\n",
        "        return \"Material no clasificado\"\n",
        "\n",
        "def calcular_precio(peso, material):\n",
        "    if material == \"aluminio\":\n",
        "        precio_por_kilo = 8000\n",
        "    elif material == \"acero\":\n",
        "        precio_por_kilo = 5000\n",
        "    elif material == \"cobre\":\n",
        "        precio_por_kilo = 28500\n",
        "    else:\n",
        "        return \"Material no válido\"\n",
        "\n",
        "    precio_total = peso * precio_por_kilo\n",
        "    return f\"El valor total del material es: ${precio_total}\"\n",
        "\n",
        "# Solicitar al usuario que ingrese los valores\n",
        "volumen = float(input(\"Ingresa el volumen del material: \"))\n",
        "peso = float(input(\"Ingresa el peso del material: \"))\n",
        "material = input(\"Ingresa el tipo de material (aluminio, acero, cobre): \").lower()\n",
        "\n",
        "# Clasificar y calcular el precio del material\n",
        "resultado = clasificar_material(volumen, peso, material)\n",
        "print(resultado)\n"
      ],
      "metadata": {
        "id": "qGSEorjKkr4u",
        "colab": {
          "base_uri": "https://localhost:8080/"
        },
        "outputId": "e04ec324-2a18-4167-f801-609a542c70d7"
      },
      "execution_count": 1,
      "outputs": [
        {
          "output_type": "stream",
          "name": "stdout",
          "text": [
            "Ingresa el volumen del material: 4\n",
            "Ingresa el peso del material: 2000\n",
            "Ingresa el tipo de material (aluminio, acero, cobre): aluminio\n",
            "El valor total del material es: $16000000.0\n"
          ]
        }
      ]
    },
    {
      "cell_type": "code",
      "source": [],
      "metadata": {
        "id": "aWLbd5iCOGGr"
      },
      "execution_count": null,
      "outputs": []
    }
  ]
}