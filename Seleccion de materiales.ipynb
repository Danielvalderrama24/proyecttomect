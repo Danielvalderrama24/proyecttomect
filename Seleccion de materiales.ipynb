{
  "nbformat": 4,
  "nbformat_minor": 0,
  "metadata": {
    "colab": {
      "provenance": [],
      "include_colab_link": true
    },
    "kernelspec": {
      "name": "python3",
      "display_name": "Python 3"
    },
    "language_info": {
      "name": "python"
    },
    "accelerator": "GPU",
    "gpuClass": "standard"
  },
  "cells": [
    {
      "cell_type": "markdown",
      "metadata": {
        "id": "view-in-github",
        "colab_type": "text"
      },
      "source": [
        "<a href=\"https://colab.research.google.com/github/Danielvalderrama24/proyecttomect/blob/main/bark_demo.ipynb\" target=\"_parent\"><img src=\"https://colab.research.google.com/assets/colab-badge.svg\" alt=\"Open In Colab\"/></a>"
      ]
    },
    {
      "cell_type": "code",
      "source": [
        "pip install pandas\n"
      ],
      "metadata": {
        "id": "R7nrBb82TII-",
        "outputId": "aff38171-788c-43b6-a4d7-a54869270881",
        "colab": {
          "base_uri": "https://localhost:8080/"
        }
      },
      "execution_count": 1,
      "outputs": [
        {
          "output_type": "stream",
          "name": "stdout",
          "text": [
            "Requirement already satisfied: pandas in /usr/local/lib/python3.10/dist-packages (1.5.3)\n",
            "Requirement already satisfied: python-dateutil>=2.8.1 in /usr/local/lib/python3.10/dist-packages (from pandas) (2.8.2)\n",
            "Requirement already satisfied: pytz>=2020.1 in /usr/local/lib/python3.10/dist-packages (from pandas) (2023.3.post1)\n",
            "Requirement already satisfied: numpy>=1.21.0 in /usr/local/lib/python3.10/dist-packages (from pandas) (1.23.5)\n",
            "Requirement already satisfied: six>=1.5 in /usr/local/lib/python3.10/dist-packages (from python-dateutil>=2.8.1->pandas) (1.16.0)\n"
          ]
        }
      ]
    },
    {
      "cell_type": "code",
      "source": [
        "import pandas as pd\n",
        "\n",
        "# Cargar los datos desde un archivo Excel\n",
        "df = pd.read_excel('Materiales.xlsx')  # Asegúrate de que el archivo 'materiales.xlsx' contenga tus datos\n",
        "\n",
        "# Solicitar valores al usuario\n",
        "limite_elastico_deseado = float(input(\"Ingrese el límite elástico deseado (Mpa): \"))\n",
        "resistencia_maxima_deseada = float(input(\"Ingrese la resistencia máxima deseada (Mpa): \"))\n",
        "dureza_brinell_deseada = float(input(\"Ingrese la dureza Brinell deseada: \"))\n",
        "\n",
        "materiales_cumplen = []\n",
        "\n",
        "# Iterar a través de los materiales en el archivo Excel\n",
        "for index, row in df.iterrows():\n",
        "    if (\n",
        "        row[\"Límite Elástico (Mpa)\"] >= limite_elastico_deseado\n",
        "        and row[\"Resistencia Máxima (Mpa)\"] >= resistencia_maxima_deseada\n",
        "        and row[\"Dureza Brinell\"] >= dureza_brinell_deseada\n",
        "    ):\n",
        "        materiales_cumplen.append(row[\"Material\"])\n",
        "\n",
        "# Comprobar si se encontraron materiales adecuados\n",
        "if materiales_cumplen:\n",
        "    print(\"Los siguientes materiales en stock cumplen con los criterios:\")\n",
        "    for material in materiales_cumplen:\n",
        "        print(material)\n",
        "else:\n",
        "    print(\"Ningún material en stock cumple con los criterios especificados.\")\n"
      ],
      "metadata": {
        "id": "aOBLRzK6TI0k",
        "outputId": "cf63286e-ea63-4be6-f200-ab7f6f7ff8a8",
        "colab": {
          "base_uri": "https://localhost:8080/"
        }
      },
      "execution_count": 2,
      "outputs": [
        {
          "output_type": "stream",
          "name": "stdout",
          "text": [
            "Ingrese el límite elástico deseado (Mpa): 530\n",
            "Ingrese la resistencia máxima deseada (Mpa): 220\n",
            "Ingrese la dureza Brinell deseada: 25\n",
            "Ningún material en stock cumple con los criterios especificados.\n"
          ]
        }
      ]
    }
  ]
}
